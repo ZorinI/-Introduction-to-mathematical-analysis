{
 "cells": [
  {
   "cell_type": "markdown",
   "id": "4cb9af98",
   "metadata": {},
   "source": [
    "### 4. найти экстремумы функции z=x^2+xy+y^2-6x-9y"
   ]
  },
  {
   "cell_type": "markdown",
   "id": "f3245cf1",
   "metadata": {},
   "source": [
    "1. Найдем частные производные \n",
    "\n",
    "Dz\\Dx= 2*x+y-6\n",
    "\n",
    "Dz\\Dy= x+2*y-9\n",
    "\n",
    "2. Решим систему уравнений \n",
    "\n",
    "2*x+y-6=0\n",
    "\n",
    "x+2*y-9=0\n",
    "\n",
    "Получим:\n",
    "\n",
    "а) Из первого уравнения выражаем x и подставляем во второе уравнение:\n",
    "\n",
    "x = 9-2*y\n",
    "\n",
    "12-3*y = 0\n",
    "\n",
    "Откуда y = 4\n",
    "\n",
    "Данные значения y подставляем в выражение для x. Получаем: x = 1\n",
    "\n",
    "Количество критических точек равно 1.\n",
    "\n",
    "M1(1;4)\n",
    "\n",
    "3. Найдем частные производные второго порядка.\n",
    "\n",
    "D^2z\\DxDy=1\n",
    "\n",
    "D^2z\\Dx^2=2\n",
    "\n",
    "D^2z\\Dy^2=2\n",
    "\n",
    "4. Вычислим значение этих частных производных второго порядка в критических точках M(x0;y0).\n",
    "\n",
    "Вычисляем значения для точки M1(1;4)\n",
    "\n",
    "A=2\n",
    "\n",
    "C=2\n",
    "\n",
    "B=1\n",
    "\n",
    "AC - B2 = 3 > 0 и A > 0 , то в точке M1(1;4) имеется минимум z(1;4) = -21\n",
    "\n",
    "Вывод: В точке M1(1;4) имеется минимум z(1;4) = -21;"
   ]
  },
  {
   "cell_type": "markdown",
   "id": "f89b2bc6",
   "metadata": {},
   "source": [
    "### 3.Найти полный дифференциал функции в точке (1;1)\n",
    "$$z=\\sqrt{2xy+\\cos\\frac{x}{y}}$$ \n",
    "Для вычисления полного дифференциала функции в точке, для начала нужно найти частные производные. \n",
    "$$\\frac{\\partial z}{\\partial x}=\\frac{1}{2\\sqrt{2xy+\\cos\\frac{x}{y}}}\\cdot\\left(2y-\\frac{1}{y}\\sin\\frac{x}{y}\\right)$$ $$\\frac{\\partial z}{\\partial y}=\\frac{1}{2\\sqrt{2xy+\\cos\\frac{x}{y}}}\\cdot\\left(2x+\\frac{x\\sin\\frac{x}{y}}{y^2}\\right)$$ \n",
    "Полный дифференциал вычисляется по формуле: \n",
    "$$dz=\\frac{\\partial z}{\\partial x}dx+\\frac{\\partial z}{\\partial y}dy$$ \n",
    "Посчитаем полный дифференциал для нашего случая, подставив точку (1;1): \n",
    "$$dz=\\frac{1}{2\\sqrt{2xy+\\cos\\frac{x}{y}}}\\cdot\\left(2y-\\frac{1}{y}\\sin\\frac{x}{y}\\right)dx+\\frac{1}{2\\sqrt{2xy+\\cos\\frac{x}{y}}}\\cdot\\left(2x+\\frac{x\\sin\\frac{x}{y}}{y^2}\\right)dy=\\frac{1}{2\\sqrt{2\\cdot1\\cdot1+\\cos\\frac{1}{1}}}\\cdot\\left(2\\cdot1-\\frac{1}{1}\\sin\\frac{1}{1}\\right)dx+\\frac{1}{2\\sqrt{2\\cdot1\\cdot1+\\cos\\frac{1}{1}}}\\cdot\\left(2\\cdot1+\\frac{1\\cdot\\sin\\frac{1}{1}}{1^2}\\right)dy=\\frac{2-\\sin1}{2\\sqrt{2+\\cos1}}dx+\\frac{2+\\sin1}{2\\sqrt{2+\\cos1}}dy$$"
   ]
  },
  {
   "cell_type": "markdown",
   "id": "2ea69b69",
   "metadata": {},
   "source": [
    "### 2.Найти производные 1-го порядка функции \n",
    "$$z=\\left(1+\\frac{\\ln x}{\\ln y}\\right)^3$$ \n",
    "Вначале найдем частную производную по х. Для этого \"замоорозим\" у, представим, что у - константа. \n",
    "$$z'_x=\\left ( \\left (1+\\frac{\\ln x}{\\ln y}\\right)^3\\right)'=3\\left (1+\\frac{\\ln x}{\\ln y}\\right)^2\\cdot \\left (1+\\frac{\\ln x}{\\ln y}\\right)'_x=3\\left (1+\\frac{\\ln x}{\\ln y}\\right)^2\\cdot\\frac{1}{x\\ln y}$$ \n",
    "Теперь найдем частую производную по у, \"замораживаем\" х. \n",
    "$$z'_y=\\left ( \\left (1+\\frac{\\ln x}{\\ln y}\\right)^3\\right)'=3\\left (1+\\frac{\\ln x}{\\ln y}\\right)^2\\cdot\\left (1+\\frac{\\ln x}{\\ln y}\\right)'_y=-3\\left (1+\\frac{\\ln x}{\\ln y}\\right)^2\\cdot\\frac{\\ln x}{(\\ln y)^2}$$"
   ]
  },
  {
   "cell_type": "markdown",
   "id": "6132989c",
   "metadata": {},
   "source": [
    "### 1. Найти область определения функции $$z=\\sqrt{1-x^3}+\\ln{(y^2-1)}$$\n",
    "На область определения функции z накладываются следующие ограничения - подкоренное выражение должно быть больше или равным 0, а подлогарифменое выражение должно быть больше 0. Таким образом надо решить два неравенства: \n",
    "$$\\begin{cases} 1-x^3\\geq0,\\\\ y^2-1>0; \\end{cases} \\begin{cases} x^3\\leq1,\\\\ y^2>1; \\end{cases} \\begin{cases} x\\in(-\\infty;1],\\\\ y\\in(-\\infty;-1)\\cup(1;+\\infty). \\end{cases} $$ \n",
    "Таким образом, область определения функции z: \n",
    "$$x\\in(-\\infty;1],\\\\ y\\in(-\\infty;-1)\\cup(1;+\\infty)$$"
   ]
  },
  {
   "cell_type": "code",
   "execution_count": null,
   "id": "0f60598c",
   "metadata": {},
   "outputs": [],
   "source": []
  }
 ],
 "metadata": {
  "kernelspec": {
   "display_name": "Python 3",
   "language": "python",
   "name": "python3"
  },
  "language_info": {
   "codemirror_mode": {
    "name": "ipython",
    "version": 3
   },
   "file_extension": ".py",
   "mimetype": "text/x-python",
   "name": "python",
   "nbconvert_exporter": "python",
   "pygments_lexer": "ipython3",
   "version": "3.8.8"
  }
 },
 "nbformat": 4,
 "nbformat_minor": 5
}
