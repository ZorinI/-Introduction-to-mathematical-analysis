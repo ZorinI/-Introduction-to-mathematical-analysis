{
 "cells": [
  {
   "cell_type": "markdown",
   "id": "cc8b1cd0",
   "metadata": {},
   "source": [
    "### 1. Найти собственные векторы и собственные значения для линейного оператора, заданного матрицей\n"
   ]
  },
  {
   "cell_type": "code",
   "execution_count": 1,
   "id": "8e834b9c",
   "metadata": {},
   "outputs": [],
   "source": [
    "import numpy as np"
   ]
  },
  {
   "cell_type": "code",
   "execution_count": 4,
   "id": "beb70a86",
   "metadata": {},
   "outputs": [
    {
     "name": "stdout",
     "output_type": "stream",
     "text": [
      "A:\n",
      "[[-1 -6]\n",
      " [ 2  6]]\n",
      "\n"
     ]
    }
   ],
   "source": [
    "A = np.array([[-1, -6], [2, 6]])\n",
    "\n",
    "print(f'A:\\n{A}\\n')"
   ]
  },
  {
   "cell_type": "markdown",
   "id": "df608314",
   "metadata": {},
   "source": [
    "v1 = (-2, 1) v2 = (3/2, -1)"
   ]
  },
  {
   "cell_type": "code",
   "execution_count": 6,
   "id": "abe44bcd",
   "metadata": {},
   "outputs": [
    {
     "name": "stdout",
     "output_type": "stream",
     "text": [
      "Собственные значения:\n",
      "[2 3]\n",
      "\n",
      "Собственные векторы:\n",
      "[-2  1], [ 1.5 -1. ]\n",
      "\n",
      "Нормированные собственные векторы:\n",
      "[-0.89442719  0.4472136 ], [ 0.83205029 -0.5547002 ]\n",
      "\n"
     ]
    }
   ],
   "source": [
    "v1 = np.array([-2, 1])\n",
    "v2 = np.array([3/2, -1])\n",
    "n1 = np.linalg.norm(v1)\n",
    "n2 = np.linalg.norm(v2)\n",
    "\n",
    "print(f'Собственные значения:\\n{np.array([2, 3])}\\n')\n",
    "print(f'Собственные векторы:\\n{v1}, {v2}\\n')\n",
    "print(f'Нормированные собственные векторы:\\n{v1/n1}, {v2/n2}\\n')"
   ]
  },
  {
   "cell_type": "code",
   "execution_count": 7,
   "id": "1d90821c",
   "metadata": {},
   "outputs": [
    {
     "name": "stdout",
     "output_type": "stream",
     "text": [
      "Собственные значения:\n",
      "[2. 3.]\n",
      "\n",
      "Собственные векторы:\n",
      "[-0.89442719  0.4472136 ], [ 0.83205029 -0.5547002 ]\n",
      "\n"
     ]
    }
   ],
   "source": [
    "w, v = np.linalg.eig(A)\n",
    "\n",
    "print(f'Собственные значения:\\n{w}\\n')\n",
    "print(f'Собственные векторы:\\n{v[:, 0]}, {v[:, 1]}\\n')"
   ]
  },
  {
   "cell_type": "markdown",
   "id": "3c579b1b",
   "metadata": {},
   "source": [
    "### 2. Дан оператор поворота на 180 градусов, задаваемый матрицей"
   ]
  },
  {
   "cell_type": "markdown",
   "id": "a025968e",
   "metadata": {},
   "source": [
    "A = np.array([[-1, 0], [0, -1]])\n",
    "\n",
    "print(f'A:\\n{A}\\n')"
   ]
  },
  {
   "cell_type": "markdown",
   "id": "55111a6f",
   "metadata": {},
   "source": [
    "Показать, что любой вектор является для него собственным"
   ]
  },
  {
   "cell_type": "code",
   "execution_count": 9,
   "id": "04a2c53b",
   "metadata": {},
   "outputs": [
    {
     "name": "stdout",
     "output_type": "stream",
     "text": [
      "Собственные значения:\n",
      "[-1. -1.]\n",
      "\n",
      "Собственные векторы:\n",
      "[1. 0.], [0. 1.]\n",
      "\n"
     ]
    }
   ],
   "source": [
    "w, v = np.linalg.eig(A)\n",
    "\n",
    "print(f'Собственные значения:\\n{w}\\n')\n",
    "print(f'Собственные векторы:\\n{v[:, 0]}, {v[:, 1]}\\n')"
   ]
  },
  {
   "cell_type": "markdown",
   "id": "02b2d60f",
   "metadata": {},
   "source": [
    "Собственным вектором линейного оператора A (матрицы A) называется ненулевой вектор x такой, что Ax = λx. Для единичной матрицы E любой вектор x является собственным, с собственным числом, равным 1, так как Ex = x. Так как матрица A диагональная, тогда собственные значения: λ 1=-1, λ 2=-1 А=-1Е -1Ех=λ х -1х=λ х λ =-1\n",
    "\n",
    "Таким образом, любой ненулевой вектор х является собственным для линейного оператора А=-1Е"
   ]
  },
  {
   "cell_type": "markdown",
   "id": "f31bb734",
   "metadata": {},
   "source": [
    "### 3. Пусть линейный оператор задан матрицей A=(1/−1;1/3)."
   ]
  },
  {
   "cell_type": "markdown",
   "id": "f6c9c5b5",
   "metadata": {},
   "source": [
    "Установить, является ли вектор x=(1,1) собственным вектором этого линейного оператора. (1/−1;1/3) (1/1)=λ (1/1)\n",
    "\n",
    "{1+1=1λ⇒ {λ=2 {-1+3=1λ⇒{λ=2 Ответ: вектор x=(1,1) является собственным вектором линейного оператора A, а его собственное значения составляет λ=2."
   ]
  },
  {
   "cell_type": "markdown",
   "id": "c413bb06",
   "metadata": {},
   "source": [
    "### 4. Пусть линейный оператор задан матрицей A=(0/3/0; 3/0/0; 0/0/3)"
   ]
  },
  {
   "cell_type": "markdown",
   "id": "dc676bd8",
   "metadata": {},
   "source": [
    "Установить, является ли вектор x=(3,−3,−4) собственным вектором этого линейного оператора. (0/3/0; 3/0/0; 0/0/3) (3/-3/-4)= λ(3/-3/-4) ⇒ {3λ=-9 {λ=-3 {-3λ=-9 ⇒ {λ=-3 {-4λ=-12 {λ=3\n",
    "\n",
    "Ответ: вектор x=(3,−3,−4) не является собственным вектором линейного оператора A."
   ]
  },
  {
   "cell_type": "code",
   "execution_count": null,
   "id": "dd16f177",
   "metadata": {},
   "outputs": [],
   "source": []
  }
 ],
 "metadata": {
  "kernelspec": {
   "display_name": "Python 3 (ipykernel)",
   "language": "python",
   "name": "python3"
  },
  "language_info": {
   "codemirror_mode": {
    "name": "ipython",
    "version": 3
   },
   "file_extension": ".py",
   "mimetype": "text/x-python",
   "name": "python",
   "nbconvert_exporter": "python",
   "pygments_lexer": "ipython3",
   "version": "3.9.7"
  }
 },
 "nbformat": 4,
 "nbformat_minor": 5
}
