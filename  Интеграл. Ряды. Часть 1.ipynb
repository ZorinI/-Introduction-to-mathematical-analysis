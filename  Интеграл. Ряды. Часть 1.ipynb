{
 "cells": [
  {
   "cell_type": "markdown",
   "id": "a7ee6299",
   "metadata": {},
   "source": [
    "### 1. Найти неопределенный интеграл:\n",
    "$$ \\int(2x^2-2x-1+\\sin x-\\cos x +\\ln x+e^x)dx $$ $$ \\int(2x^2-2x-1+\\sin x-\\cos x +\\ln x+e^x)dx=\\frac{2x^3}{3}-x^2-x-\\cos x-\\sin x+x(\\ln(x)-1)+e^x+C $$"
   ]
  },
  {
   "cell_type": "markdown",
   "id": "37657392",
   "metadata": {},
   "source": [
    "### 2.Найти неопределенный интеграл: \n",
    "$$ \\int(2x+6xz^2-5x^2y-3\\ln z)dx=x^2+3x^2z^2-\\frac{5x^3y}{3}-3x\\ln z+C $$"
   ]
  },
  {
   "cell_type": "markdown",
   "id": "3f86ae44",
   "metadata": {},
   "source": [
    "### 3. Вычислить определенный интеграл: \n",
    "$$\\int\\limits_0^\\pi3x^2\\sin(2x)dx$$ Применим интегрирование по частям, где U=3x2, а dV=sin2xdx. $$ U=3x^2, dU=6xdx$$ Внесем под дифференциал двойку, а чтобы ничего не изменилось, впереди добавим 1/2: $$ dV=sin(2x)dx, V=-\\frac{1}{2}\\cos2x$$ В итоге получаем: $$ \\int\\limits_0^\\pi3x^2\\sin(2x)dx=\\left.\\left(3x^2\\cdot(-\\frac{1}{2}\\cos2x)\\right)\\right|_0^\\pi-\\int\\limits_0^\\pi\\left(-\\frac{1}{2}\\cos2x\\right)\\cdot6xdx=\\left(3\\pi^2\\cdot(-\\frac{1}{2}\\cos2\\pi)\\right)-\\left(3\\cdot0^2\\cdot(-\\frac{1}{2}\\cos(2\\cdot0)\\right)-\\int\\limits_0^\\pi\\left(-\\frac{1}{2}\\cos2x\\right)\\cdot6xdx=-\\frac{3}{2}\\pi^2+\\int\\limits_0^\\pi3x\\cos2x\\cdot dx $$ А теперь возьмем по частям интеграл: $$ \\int\\limits_0^\\pi3x\\cos2x\\cdot dx$$ $$ U=3x; \\quad dU=3dx$$ $$ dV=\\cos2xdx; \\quad V=\\frac{1}{2}\\sin2x$$ Тогда наше выражение примет вид: $$ -\\frac{3}{2}\\pi^2+\\int\\limits_0^\\pi3x\\cos2x\\cdot dx=-\\frac{3}{2}\\pi^2+\\left.\\left(3x\\cdot\\frac{1}{2}\\sin2x\\right)\\right|_0^\\pi-\\int\\limits_0^\\pi\\left(\\frac{1}{2}\\sin2x\\right)3dx=-\\frac{3}{2}\\pi^2+\\left(3\\pi\\cdot\\frac{1}{2}\\sin2\\pi\\right)-\\left(3\\cdot0\\frac{1}{2}\\sin2\\cdot0\\right)-\\int\\limits_0^\\pi\\left(\\frac{1}{2}\\sin2x\\right)3dx=-\\frac{3}{2}\\pi^2+0-0-\\int\\limits_0^\\pi\\left(\\frac{1}{2}\\sin2x\\right)3dx$$ В оставшемся интеграле внесем 2 под знак дифференциала и добавим 1/2 перед знаком интеграла: $$ -\\frac{3}{2}\\pi^2-\\int\\limits_0^\\pi\\left(\\frac{1}{2}\\sin2x\\right)3dx=-\\frac{3}{2}\\pi^2-\\frac{3}{2}\\cdot\\frac{1}{2}\\int\\limits_0^\\pi\\sin2xd(2x)=-\\frac{3}{2}\\pi^2-\\frac{3}{4}(-\\cos(2\\cdot\\pi))+\\frac{3}{4}(-\\cos(2\\cdot 0))=-\\frac{3}{2}\\pi^2$$\n"
   ]
  },
  {
   "cell_type": "markdown",
   "id": "82cb007b",
   "metadata": {},
   "source": [
    "### 4.Найти неопределенный интеграл:\n",
    "$$ \\int\\frac{1}{\\sqrt{x+1}}dx$$ \"+1\" можно смело внести под знак дифференциала, а корень из \"х+1\" представим в виде степенной функции: $$ \\int\\frac{1}{\\sqrt{x+1}}dx=\\int(x+1)^{-\\frac{1}{2}}d(x+1)=\\frac{(x+1)^{\\frac{1}{2}}}{\\frac{1}{2}}=2\\sqrt{x+1}+C$$"
   ]
  },
  {
   "cell_type": "code",
   "execution_count": null,
   "id": "bd1f505c",
   "metadata": {},
   "outputs": [],
   "source": []
  }
 ],
 "metadata": {
  "kernelspec": {
   "display_name": "Python 3",
   "language": "python",
   "name": "python3"
  },
  "language_info": {
   "codemirror_mode": {
    "name": "ipython",
    "version": 3
   },
   "file_extension": ".py",
   "mimetype": "text/x-python",
   "name": "python",
   "nbconvert_exporter": "python",
   "pygments_lexer": "ipython3",
   "version": "3.8.8"
  }
 },
 "nbformat": 4,
 "nbformat_minor": 5
}
