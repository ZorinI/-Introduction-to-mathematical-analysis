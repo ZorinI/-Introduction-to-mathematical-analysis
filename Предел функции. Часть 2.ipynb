{
 "cells": [
  {
   "cell_type": "code",
   "execution_count": 18,
   "id": "9c36a83c",
   "metadata": {},
   "outputs": [],
   "source": [
    "import sympy as sp\n",
    "x=sp.Symbol('x')"
   ]
  },
  {
   "cell_type": "markdown",
   "id": "52f6c33f",
   "metadata": {},
   "source": [
    "### 4.Найти предел"
   ]
  },
  {
   "cell_type": "markdown",
   "id": "b553e7d4",
   "metadata": {},
   "source": [
    "с. "
   ]
  },
  {
   "cell_type": "code",
   "execution_count": 19,
   "id": "70d255ec",
   "metadata": {},
   "outputs": [
    {
     "data": {
      "text/latex": [
       "$\\displaystyle e^{12}$"
      ],
      "text/plain": [
       "exp(12)"
      ]
     },
     "execution_count": 19,
     "metadata": {},
     "output_type": "execute_result"
    }
   ],
   "source": [
    "limit(((x+3)/x)**(4*x+1), x, oo)"
   ]
  },
  {
   "cell_type": "markdown",
   "id": "6e3edccb",
   "metadata": {},
   "source": [
    "### Теоремы о пределах"
   ]
  },
  {
   "cell_type": "code",
   "execution_count": 24,
   "id": "90af4eb4",
   "metadata": {},
   "outputs": [
    {
     "data": {
      "text/latex": [
       "$\\displaystyle e^{9}$"
      ],
      "text/plain": [
       "exp(9)"
      ]
     },
     "execution_count": 24,
     "metadata": {},
     "output_type": "execute_result"
    }
   ],
   "source": [
    "limit((((4*x)+3)/((4*x)-3))**(6*x), x, oo)"
   ]
  },
  {
   "cell_type": "code",
   "execution_count": 26,
   "id": "dc81e1a0",
   "metadata": {},
   "outputs": [
    {
     "data": {
      "text/latex": [
       "$\\displaystyle 0$"
      ],
      "text/plain": [
       "0"
      ]
     },
     "execution_count": 26,
     "metadata": {},
     "output_type": "execute_result"
    }
   ],
   "source": [
    "limit(((sin(x)+ln(x))/x), x, oo)"
   ]
  },
  {
   "cell_type": "code",
   "execution_count": 27,
   "id": "9bed10fa",
   "metadata": {},
   "outputs": [
    {
     "data": {
      "text/latex": [
       "$\\displaystyle -\\infty$"
      ],
      "text/plain": [
       "-oo"
      ]
     },
     "execution_count": 27,
     "metadata": {},
     "output_type": "execute_result"
    }
   ],
   "source": [
    "limit(((sin(x)+ln(x))/x), x, 0)"
   ]
  },
  {
   "cell_type": "code",
   "execution_count": null,
   "id": "adaacd36",
   "metadata": {},
   "outputs": [],
   "source": []
  }
 ],
 "metadata": {
  "kernelspec": {
   "display_name": "Python 3",
   "language": "python",
   "name": "python3"
  },
  "language_info": {
   "codemirror_mode": {
    "name": "ipython",
    "version": 3
   },
   "file_extension": ".py",
   "mimetype": "text/x-python",
   "name": "python",
   "nbconvert_exporter": "python",
   "pygments_lexer": "ipython3",
   "version": "3.8.8"
  }
 },
 "nbformat": 4,
 "nbformat_minor": 5
}
