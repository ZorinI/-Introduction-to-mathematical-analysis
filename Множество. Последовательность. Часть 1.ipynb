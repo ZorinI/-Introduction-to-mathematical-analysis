{
 "cells": [
  {
   "cell_type": "markdown",
   "id": "575cd810",
   "metadata": {},
   "source": [
    "### Тема “Введение в математический анализ”\n",
    "Задача2"
   ]
  },
  {
   "cell_type": "markdown",
   "id": "3509d5bb",
   "metadata": {},
   "source": [
    "Ɐ y∈[0;1] : sgn (y)=1 - для любого y принадлежащего интервалу [0; 1] сигнум у равен 1\n",
    "\n",
    "Отрицание - ∃ y ∉[0;1] : sgn (y) ≠1 По определению сигнума: sgn(y) = 1 при y > 0 следовательно высказывание ложно"
   ]
  },
  {
   "cell_type": "markdown",
   "id": "39a144b1",
   "metadata": {},
   "source": [
    "Ɐ n ∈N>2:∃x,y,z ∈N: xn= yn + zn - ля любого n принадлежащего множеству натуральных чисел и больше 2 существуют такие x, y и z принадлежащие множеству натуральных чисел для которых xn= yn + zn\n",
    "\n",
    "Отрицание ∃n∈N⩽2: Ɐx,y,z ∈N: xn≠  yn + zn  ложное высказываение"
   ]
  },
  {
   "cell_type": "markdown",
   "id": "9f17902e",
   "metadata": {},
   "source": [
    "Ɐx∈R∃X∈R:X>x ля любого x принадлежащего множеству вещественных чисел существует X принадлежащее множеству вещественных чисел такое что X > x\n",
    "\n",
    "Отрицание ∃x∈RⱯX∈R:X⩽x  истина"
   ]
  },
  {
   "cell_type": "markdown",
   "id": "7f08fe80",
   "metadata": {},
   "source": [
    "Ɐx∈C∄y∈C:x>y||x<y Для любого x принадлежащего множеству комплексных чисел не существует такого y принадлежащего множеству комплексных чисел такого что x>y или x<y\n",
    "\n",
    "Отрицание ∃x∈C∃y∈C: x>y, x<y"
   ]
  },
  {
   "cell_type": "markdown",
   "id": "080cb3fd",
   "metadata": {},
   "source": [
    "Ɐy∈[0;π/2] ∃Ɛ>0:sin y<sin(y+ Ɛ)   Ɛ - это что?))) епсилон??)  незнаю как сформулировать правильно) \n",
    "\n",
    "\n",
    "Отрицание ∃y∈[0;π/2] Ɐ Ɛ>0: sin y >= sin (y+ Ɛ)"
   ]
  },
  {
   "cell_type": "markdown",
   "id": "bd6cdbaa",
   "metadata": {},
   "source": [
    "Ɐy∈[0;π)∃Ɛ>0:cos y>cos(y+ Ɛ) -  тож самое)\n",
    "\n",
    "Отрицание ∃y∈[0;π)ⱯƐ>0:cos y<=cos(y+ Ɛ)"
   ]
  },
  {
   "cell_type": "markdown",
   "id": "cfe1ebfd",
   "metadata": {},
   "source": [
    "∃x:x∉{N,Z,Q,R,C} - Существует х не принадлежащее к множеству натуральных, целых, рациональных, вещественных и комплексных чисел.\n",
    "\n",
    "Отрицание Ɐ x:x∈{N,Z,Q,R,C}  гиперкомплексные числа? истина?"
   ]
  },
  {
   "cell_type": "markdown",
   "id": "4d502b17",
   "metadata": {},
   "source": [
    "### Тема “Множество”"
   ]
  },
  {
   "cell_type": "markdown",
   "id": "db721e30",
   "metadata": {},
   "source": [
    "Даны три множества a,b и с. Необходимо выполнить все изученные виды бинарных\n",
    "операций над всеми комбинациями множеств."
   ]
  },
  {
   "cell_type": "markdown",
   "id": "58b295c2",
   "metadata": {},
   "source": [
    "*Выполнить задание 1 на языке Python"
   ]
  },
  {
   "cell_type": "code",
   "execution_count": 63,
   "id": "3b46b915",
   "metadata": {},
   "outputs": [],
   "source": [
    "import numpy as np\n",
    "import random\n",
    "import math\n",
    "import itertools\n",
    "from sympy import factorial"
   ]
  },
  {
   "cell_type": "code",
   "execution_count": 64,
   "id": "9255206d",
   "metadata": {},
   "outputs": [],
   "source": [
    "random.seed(42)\n",
    "a = set([random.randint(0, 99) for _ in range(1, 5)])\n",
    "b = set([random.randint(0, 99) for _ in range(1, 5)])\n",
    "c = set([random.randint(0, 99) for _ in range(1, 5)])"
   ]
  },
  {
   "cell_type": "code",
   "execution_count": 65,
   "id": "3b455801",
   "metadata": {},
   "outputs": [
    {
     "name": "stdout",
     "output_type": "stream",
     "text": [
      "a: {81, 3, 14, 94}\n",
      "b: {17, 35, 28, 31}\n",
      "c: {86, 13, 94}\n"
     ]
    }
   ],
   "source": [
    "print(f'a: {a}')\n",
    "print(f'b: {b}')\n",
    "print(f'c: {c}')"
   ]
  },
  {
   "cell_type": "code",
   "execution_count": 66,
   "id": "b6166bb8",
   "metadata": {},
   "outputs": [],
   "source": [
    "sets = {\n",
    "    'a': a,\n",
    "    'b': b,\n",
    "    'c': c\n",
    "}"
   ]
  },
  {
   "cell_type": "code",
   "execution_count": 68,
   "id": "6d1e30bd",
   "metadata": {
    "scrolled": true
   },
   "outputs": [
    {
     "name": "stdout",
     "output_type": "stream",
     "text": [
      "Множества: a, b\n",
      "x: {81, 3, 14, 94},\n",
      "y: {17, 35, 28, 31}\n",
      "Объединение a | b: {3, 35, 14, 81, 17, 28, 94, 31}\n",
      "Пересечение a & b: set()\n",
      "Разность a - b: {81, 3, 14, 94}\n",
      "Симметрическая разность a ^ b: {35, 3, 14, 81, 17, 28, 94, 31}\n",
      "Декартово произведение a * b: {(81, 31), (94, 17), (3, 17), (14, 17), (14, 31), (81, 17), (94, 35), (94, 31), (3, 35), (14, 35), (94, 28), (81, 35), (3, 28), (14, 28), (3, 31), (81, 28)}\n",
      "\n",
      "Множества: a, c\n",
      "x: {81, 3, 14, 94},\n",
      "y: {86, 13, 94}\n",
      "Объединение a | c: {81, 3, 86, 94, 13, 14}\n",
      "Пересечение a & c: {94}\n",
      "Разность a - c: {81, 3, 14}\n",
      "Симметрическая разность a ^ c: {3, 13, 14, 81, 86}\n",
      "Декартово произведение a * c: {(94, 94), (3, 94), (14, 94), (94, 13), (81, 94), (14, 86), (81, 13), (3, 13), (14, 13), (94, 86), (81, 86), (3, 86)}\n",
      "\n",
      "Множества: b, c\n",
      "x: {17, 35, 28, 31},\n",
      "y: {86, 13, 94}\n",
      "Объединение b | c: {17, 35, 86, 28, 13, 94, 31}\n",
      "Пересечение b & c: set()\n",
      "Разность b - c: {17, 35, 28, 31}\n",
      "Симметрическая разность b ^ c: {35, 13, 17, 86, 28, 94, 31}\n",
      "Декартово произведение b * c: {(35, 94), (31, 94), (35, 13), (17, 13), (28, 13), (31, 13), (17, 86), (28, 86), (35, 86), (31, 86), (28, 94), (17, 94)}\n",
      "\n"
     ]
    }
   ],
   "source": [
    "for combination in itertools.combinations(sets.keys(), 2):\n",
    "    x, y = combination[0], combination[1]\n",
    "    print(f'Множества: {x}, {y}')\n",
    "    print(f'x: {sets[x]},\\ny: {sets[y]}')\n",
    "    print(f'Объединение {x} | {y}: {sets[x] | sets[y]}')\n",
    "    print(f'Пересечение {x} & {y}: {sets[x] & sets[y]}')\n",
    "    print(f'Разность {x} - {y}: {sets[x] - sets[y]}')\n",
    "    print(f'Симметрическая разность {x} ^ {y}: {sets[x] ^ sets[y]}')\n",
    "    cartesian = []\n",
    "    for item in itertools.product(sets[x], sets[y]):\n",
    "        cartesian.append(item)\n",
    "    print(f'Декартово произведение {x} * {y}: {set(cartesian)}')\n",
    "    print()"
   ]
  },
  {
   "cell_type": "code",
   "execution_count": null,
   "id": "2d8fce2b",
   "metadata": {},
   "outputs": [],
   "source": []
  },
  {
   "cell_type": "code",
   "execution_count": null,
   "id": "129b57ff",
   "metadata": {},
   "outputs": [],
   "source": []
  },
  {
   "cell_type": "code",
   "execution_count": null,
   "id": "0711283f",
   "metadata": {},
   "outputs": [],
   "source": []
  }
 ],
 "metadata": {
  "kernelspec": {
   "display_name": "Python 3",
   "language": "python",
   "name": "python3"
  },
  "language_info": {
   "codemirror_mode": {
    "name": "ipython",
    "version": 3
   },
   "file_extension": ".py",
   "mimetype": "text/x-python",
   "name": "python",
   "nbconvert_exporter": "python",
   "pygments_lexer": "ipython3",
   "version": "3.8.8"
  }
 },
 "nbformat": 4,
 "nbformat_minor": 5
}
