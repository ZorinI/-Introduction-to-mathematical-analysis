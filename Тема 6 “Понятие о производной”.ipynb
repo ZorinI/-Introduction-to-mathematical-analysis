{
 "cells": [
  {
   "cell_type": "markdown",
   "id": "85863be9",
   "metadata": {},
   "source": [
    "### 1. Найти производную "
   ]
  },
  {
   "cell_type": "markdown",
   "id": "4dad208a",
   "metadata": {},
   "source": [
    "$$\\sin{x} \\cdot \\cos{x} = (\\sin{x})'\\cdot \\cos{x} + \\sin{x} \\cdot (\\cos{x})' = \\cos^2{x} - \\sin^2{x}$$"
   ]
  },
  {
   "cell_type": "markdown",
   "id": "38e4b787",
   "metadata": {},
   "source": [
    "$$\\ln{(2x + 1)^3} = \\frac{1}{(2x + 1)^3}\\cdot 3(2x + 1)^2 \\cdot 2 = \\frac{6}{2x +1}$$"
   ]
  },
  {
   "cell_type": "markdown",
   "id": "cd5a9c60",
   "metadata": {},
   "source": [
    "$$\\sqrt{\\sin^2{(\\ln(x^3))}}= \\cos{|\\ln{(x^3)|}} \\cdot \\frac{1}{x^3} \\cdot 3x^2 = \\frac{3 \\cos{|\\ln{(x^3)|}}}{x}$$"
   ]
  },
  {
   "cell_type": "markdown",
   "id": "23af450a",
   "metadata": {},
   "source": [
    "$$\\frac{x^4}{\\ln{(x)}} = \\frac{4x^3\\cdot \\ln{(x)} - x^4 \\frac{1}{x} }{\\ln^2{(x)}} = \\frac{x^3\\ln{(x^4)} - x^3}{\\ln^2{(x)}} = \\frac{x^3(\\ln{(x^4)} - 1)}{\\ln^2{(x)}}$$"
   ]
  },
  {
   "cell_type": "markdown",
   "id": "761cb570",
   "metadata": {},
   "source": [
    "### 2. Найти выражение производной функции и ее значение в точке"
   ]
  },
  {
   "cell_type": "markdown",
   "id": "8708db92",
   "metadata": {},
   "source": [
    "$$f(x) = \\cos{(x^2 + 3x)}, x_0 = \\sqrt{\\pi}$$\n",
    "\n",
    "$$f'(x) = -\\sin{(x^2 + 3x)} \\cdot (2x +3) = -(2x +3)\\sin{(x^2 + 3x)}$$\n",
    "\n",
    "$$f'(\\sqrt{\\pi}) = -(2\\cdot\\sqrt{\\pi} +3)\\sin{((\\sqrt{\\pi})^2 + 3\\cdot \\sqrt{\\pi})} = -(2\\sqrt{\\pi} +3)\\cdot(\\sin{\\pi}\\cos{3\\sqrt{\\pi}} + \\cos{\\pi}\\sin{3\\sqrt{\\pi}}) = $$\n",
    "\n",
    "$$(2\\sqrt{\\pi} +3)\\sin{3\\sqrt{\\pi}} \\approx −5,38330241$$"
   ]
  },
  {
   "cell_type": "markdown",
   "id": "fc3a8733",
   "metadata": {},
   "source": [
    "### 3.* Найти значение производной функции в точке:"
   ]
  },
  {
   "cell_type": "markdown",
   "id": "0902cca9",
   "metadata": {},
   "source": [
    "$$f(x)= \\frac{x^3 - x^2 - x - 1}{1 + 2x + 3x^2 - 4x^3}, x_0 = 0$$\n",
    "\n",
    "$$f'(x)= \\frac{(3x^2 - 2x - 1)(1 + 2x + 3x^2 - 4x^3)-(x^3 - x^2 - x - 1)(2 + 6x - 12x^2)}{(1 + 2x + 3x^2 - 4x^3)^2} = $$\n",
    "\n",
    "$$f'(x) = -\\frac{x^4 + 4x^3 +8x^2 -4x - 1}{(1 + 2x + 3x^2 - 4x^3)^2}$$\n",
    "\n",
    "$$f'(0) = -\\frac{- 1}{(1)^2} = 1$$"
   ]
  },
  {
   "cell_type": "markdown",
   "id": "306c3c83",
   "metadata": {},
   "source": [
    "### 4.Найти угол наклона касательной к графику функции в точке:"
   ]
  },
  {
   "cell_type": "markdown",
   "id": "a0d9d0f1",
   "metadata": {},
   "source": [
    "$$f(x) = \\sqrt{3x} \\cdot \\ln{x}, x_0 = 1$$\n",
    "\n",
    "$$f'(x) = \\sqrt{3}(\\sqrt{x} \\cdot \\ln{x}) = \\sqrt{3}\\left(\\frac{1}{2\\sqrt{x}} \\ln{x} + \\sqrt{x} \\frac{1}{x}\\right) = \\sqrt{3}\\left(\\frac{\\ln{x}}{2\\sqrt{x}}+ \\frac{1}{\\sqrt{x}}\\right) = \\sqrt{3}\\left(\\frac{\\ln{(x)} + 2}{2\\sqrt{x}}\\right)$$\n",
    "\n",
    "$$f'(1) = \\sqrt{3}\\left(\\frac{\\ln{(1)} + 2}{2\\sqrt{1}}\\right) =\\sqrt{3}$$\n",
    "\n",
    "$$\\tan{\\sqrt{3}} = \\frac{\\pi}{3} = 60^\\circ$$"
   ]
  },
  {
   "cell_type": "code",
   "execution_count": null,
   "id": "b509fdba",
   "metadata": {},
   "outputs": [],
   "source": []
  }
 ],
 "metadata": {
  "kernelspec": {
   "display_name": "Python 3",
   "language": "python",
   "name": "python3"
  },
  "language_info": {
   "codemirror_mode": {
    "name": "ipython",
    "version": 3
   },
   "file_extension": ".py",
   "mimetype": "text/x-python",
   "name": "python",
   "nbconvert_exporter": "python",
   "pygments_lexer": "ipython3",
   "version": "3.8.8"
  }
 },
 "nbformat": 4,
 "nbformat_minor": 5
}
