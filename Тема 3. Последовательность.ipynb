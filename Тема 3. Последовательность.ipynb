{
 "cells": [
  {
   "cell_type": "code",
   "execution_count": 1,
   "id": "63822024",
   "metadata": {},
   "outputs": [],
   "source": [
    "import numpy as np\n",
    "import random\n",
    "import math\n",
    "import itertools\n",
    "from sympy import factorial"
   ]
  },
  {
   "cell_type": "markdown",
   "id": "9da8b310",
   "metadata": {},
   "source": [
    "### Тема 3. Последовательность\n",
    "1. Даны 4 последовательности. Необходимо:\n",
    "\n",
    "a) исследовать их на монотонность;\n",
    "b) исследовать на ограниченность;\n",
    "c) найти пятый по счету член."
   ]
  },
  {
   "cell_type": "code",
   "execution_count": 19,
   "id": "3b5d01b7",
   "metadata": {},
   "outputs": [],
   "source": [
    "def mono (sequence):\n",
    "    for i in range(1, len(sequence)):\n",
    "        if sequence[i] > sequence[i-1]:\n",
    "            return 'Последовательность возрастает'\n",
    "        elif sequence[i] < sequence[i-1]:\n",
    "            return 'Последовательность убывает'\n",
    "        else:\n",
    "            return 'не изменяетя'"
   ]
  },
  {
   "cell_type": "markdown",
   "id": "0f0aa6bc",
   "metadata": {},
   "source": [
    "### a: 2 ** n - n\n",
    "### n = 1, +oo"
   ]
  },
  {
   "cell_type": "code",
   "execution_count": 20,
   "id": "a65c2182",
   "metadata": {},
   "outputs": [
    {
     "name": "stdout",
     "output_type": "stream",
     "text": [
      "Последовательность возрастает\n",
      "Перывые 10 элементов  2 ^ n - n: \n",
      "[1, 2, 5, 12, 27, 58, 121, 248, 503, 1014]\n",
      "Пятый по счету член  2 ^ n - n: 27\n"
     ]
    }
   ],
   "source": [
    "def f1(n):\n",
    "    return 2 ** n - n\n",
    "\n",
    "ns = list(range(1, 11, 1))\n",
    "elements = list(map(f1, ns))\n",
    "\n",
    "print(mono(elements))\n",
    "print(f'Перывые 10 элементов  2 ^ n - n: \\n{elements}')\n",
    "print(f'Пятый по счету член  2 ^ n - n: {f1(ns[4])}')"
   ]
  },
  {
   "cell_type": "markdown",
   "id": "8e528a08",
   "metadata": {},
   "source": [
    "### b: 1 / (n - 1)\n",
    "### n = 2, +oo"
   ]
  },
  {
   "cell_type": "code",
   "execution_count": 21,
   "id": "d0eac4dd",
   "metadata": {},
   "outputs": [
    {
     "name": "stdout",
     "output_type": "stream",
     "text": [
      "Последовательность убывает\n",
      "Перывые 10 элементов  1 / (n - 1): \n",
      "[1.0, 0.5, 0.3333333333333333, 0.25, 0.2, 0.16666666666666666, 0.14285714285714285, 0.125, 0.1111111111111111, 0.1]\n",
      "Пятый по счету член  1 / (n - 1): 0.2\n"
     ]
    }
   ],
   "source": [
    "def f2(n):\n",
    "    return 1 / (n - 1)\n",
    "\n",
    "ns = list(range(2, 12, 1))\n",
    "elements = list(map(f2, ns))\n",
    "\n",
    "print(mono(elements))\n",
    "print(f'Перывые 10 элементов  1 / (n - 1): \\n{elements}')\n",
    "print(f'Пятый по счету член  1 / (n - 1): {f2(ns[4])}')"
   ]
  },
  {
   "cell_type": "markdown",
   "id": "6683f465",
   "metadata": {},
   "source": [
    " ### b: -1 ** n + sqrt(2 * n)\n",
    " ### n = 1, +oo\n"
   ]
  },
  {
   "cell_type": "code",
   "execution_count": 22,
   "id": "81f3e717",
   "metadata": {},
   "outputs": [
    {
     "name": "stdout",
     "output_type": "stream",
     "text": [
      "Последовательность возрастает\n",
      "Перывые 10 элементов  -1 ^ n + sqrt(2 * n): \n",
      "[0.41421356237309515, 1.0, 1.4494897427831779, 1.8284271247461903, 2.1622776601683795, 2.4641016151377544, 2.7416573867739413, 3.0, 3.2426406871192848, 3.4721359549995796]\n",
      "Пятый по счету член  -1 ^ n + sqrt(2 * n): 2.1622776601683795\n"
     ]
    }
   ],
   "source": [
    "def f3(n):\n",
    "    return -1 ** n + math.sqrt(2 * n)\n",
    "\n",
    "ns = list(range(1, 11, 1))\n",
    "elements = list(map(f3, ns))\n",
    "\n",
    "print(mono(elements))\n",
    "print(f'Перывые 10 элементов  -1 ^ n + sqrt(2 * n): \\n{elements}')\n",
    "print(f'Пятый по счету член  -1 ^ n + sqrt(2 * n): {f3(ns[4])}')"
   ]
  },
  {
   "cell_type": "markdown",
   "id": "675f5f0a",
   "metadata": {},
   "source": [
    "### b: (-1) ** (2 * n) + 1 / (n ** 2)\n",
    "### n = 1, +oo"
   ]
  },
  {
   "cell_type": "code",
   "execution_count": 23,
   "id": "967f87b7",
   "metadata": {},
   "outputs": [
    {
     "name": "stdout",
     "output_type": "stream",
     "text": [
      "Последовательность убывает\n",
      "Перывые 10 элементов  (-1) ^ (2 * n) + 1 / (n ^ 2): \n",
      "[2.0, 1.25, 1.1111111111111112, 1.0625, 1.04, 1.0277777777777777, 1.0204081632653061, 1.015625, 1.0123456790123457, 1.01]\n",
      "Пятый по счету член  (-1) ^ (2 * n) + 1 / (n ^ 2): 1.04\n"
     ]
    }
   ],
   "source": [
    "def f4(n):\n",
    "    return (-1) ** (2 * n) + 1 / (n ** 2)\n",
    "\n",
    "ns = list(range(1, 11, 1))\n",
    "elements = list(map(f4, ns))\n",
    "\n",
    "print(mono(elements))\n",
    "print(f'Перывые 10 элементов  (-1) ^ (2 * n) + 1 / (n ^ 2): \\n{elements}')\n",
    "print(f'Пятый по счету член  (-1) ^ (2 * n) + 1 / (n ^ 2): {f4(ns[4])}')"
   ]
  },
  {
   "cell_type": "markdown",
   "id": "abd7a808",
   "metadata": {},
   "source": [
    "### 2. найти 12-й член заданной неявно последовательности"
   ]
  },
  {
   "cell_type": "markdown",
   "id": "f5e53442",
   "metadata": {},
   "source": [
    " a1 = 128, a(n+1) - a(n) = 6"
   ]
  },
  {
   "cell_type": "code",
   "execution_count": 26,
   "id": "c9e755a0",
   "metadata": {},
   "outputs": [
    {
     "name": "stdout",
     "output_type": "stream",
     "text": [
      "a12: 194\n"
     ]
    }
   ],
   "source": [
    "a1 = 128\n",
    "d = 6\n",
    "a12 = a1 + (12 - 1) * d\n",
    "print(f'a12: {a12}')"
   ]
  }
 ],
 "metadata": {
  "kernelspec": {
   "display_name": "Python 3",
   "language": "python",
   "name": "python3"
  },
  "language_info": {
   "codemirror_mode": {
    "name": "ipython",
    "version": 3
   },
   "file_extension": ".py",
   "mimetype": "text/x-python",
   "name": "python",
   "nbconvert_exporter": "python",
   "pygments_lexer": "ipython3",
   "version": "3.8.8"
  }
 },
 "nbformat": 4,
 "nbformat_minor": 5
}
