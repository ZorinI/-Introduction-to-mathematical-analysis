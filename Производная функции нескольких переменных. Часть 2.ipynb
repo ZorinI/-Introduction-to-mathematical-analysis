{
 "cells": [
  {
   "cell_type": "markdown",
   "id": "eff68571",
   "metadata": {},
   "source": [
    "### Исследовать на условный экстремум:"
   ]
  },
  {
   "cell_type": "markdown",
   "id": "c3879efd",
   "metadata": {},
   "source": [
    "### 1) $U = 3 -8x + 6y$, если $x^2 + y^2 = 36$\n",
    "$L(\\lambda_1, x, y) = 3 - 8x + 6y + \\lambda_1 \\cdot (x^2 + y^2 - 36)$\n",
    "\n",
    "$\\begin{cases} L'_x = -8 + \\lambda_1 \\cdot 2x = 0\\\\ L'_y = 6 + \\lambda_1 \\cdot 2y = 0\\\\ L'_{\\lambda_1} = x^2 + y^2 - 36 \\end{cases}$\n",
    "\n",
    "$\\begin{cases} x = \\frac{4}{\\lambda_1} \\\\ y = -\\frac{3}{\\lambda_1} \\\\ \\frac{16}{\\lambda_1^2} + \\frac{9}{\\lambda_1^2} = 36 \\end{cases}$\n",
    "\n",
    "$\\begin{cases} x = \\frac{4}{\\lambda_1} \\\\ y = -\\frac{3}{\\lambda_1} \\\\ \\lambda_1 = \\pm \\frac{5}{6} \\end{cases}$\n",
    "\n",
    "$\\left(\\frac{5}{6}, \\frac{24}{5}, -\\frac{18}{5}\\right), \\left(-\\frac{5}{6}, -\\frac{24}{5}, \\frac{18}{5}\\right)$\n",
    "\n",
    "$L''_{xx} = 2\\lambda_1$\n",
    "\n",
    "$L''_{yy} = 2\\lambda_1$\n",
    "\n",
    "$L''_{\\lambda_1\\lambda_1} = 0$\n",
    "\n",
    "$L''_{xy} = 0$\n",
    "\n",
    "$L''_{x\\lambda_1} = 2x$\n",
    "\n",
    "$L''_{y\\lambda_1} = 2y$\n",
    "\n",
    "$\\begin{pmatrix} L''_{\\lambda_1\\lambda_1} & L''_{\\lambda_1 x} & L''_{\\lambda_1 y} \\\\ L''_{x \\lambda_1} & L''_{xx} & L''_{xy} \\\\ L''_{y \\lambda_1} & L''{yx} & L''{yy} \\end{pmatrix} = \\begin{pmatrix} 0 & 2x & 2y\\\\ 2x & 2\\lambda_1 & 0\\\\ 2y & 0 & 2\\lambda_1 \\end{pmatrix} = -8 \\lambda_1(x^2+y^2)$\n",
    "\n",
    "$\\left(\\frac{5}{6}, \\frac{24}{5}, -\\frac{18}{5}\\right),\\Delta_1 = -240, \\Delta_1 < 0 \\implies \\text{точка минимума}$\n",
    "\n",
    "$\\left(-\\frac{5}{6}, -\\frac{24}{5}, \\frac{18}{5}\\right), \\Delta_2 = 240, \\Delta_2 > 0 \\implies \\text{точка максимума}$\n",
    "\n",
    "### 2) $U =2x^2 + 12xy +32y^2 + 15$, если $x^2 + 16y^2 =64$\n",
    "$L(\\lambda_1, x, y) = 2x^2 + 12xy +32y^2 + 15 + \\lambda_1 \\cdot (x^2 + 16y^2 - 64)$\n",
    "\n",
    "$\\begin{cases} L'_x = 4x + 12y + 2x \\lambda_1 = 0 \\\\ L'_y = 12x + 64y + 32y\\lambda_1 = 0 \\\\ L'_{\\lambda_1} = x^2 + 16y^2 - 64 = 0 \\end{cases}$\n",
    "\n",
    "$\\begin{cases} \\lambda_1 = - \\frac{2x + 6y}{x} \\\\ \\lambda_1 = - \\frac{3x + 16y}{8y} \\\\ x^2 +16y^2 = 64 \\end{cases}$\n",
    "\n",
    "$\\begin{cases} \\lambda_1 = - \\frac{2x + 6y}{x} \\\\ 16xy +48y^2 = 3x^2 + 16xy \\\\ x^2 +16y^2 = 64 \\end{cases}$\n",
    "\n",
    "$\\begin{cases} \\lambda_1 = - \\frac{2x + 6y}{x} \\\\ 16y^2 = x^2 \\\\ x^2 + x^2 = 64 \\end{cases}$\n",
    "\n",
    "$\\begin{array}{|l} \\left(- \\frac{7}{2}, 4\\sqrt{2}, \\sqrt{2} \\right) \\\\ \\left(- \\frac{1}{2}, 4\\sqrt{2}, -\\sqrt{2} \\right) \\\\ \\left(- \\frac{1}{2}, -4\\sqrt{2}, \\sqrt{2} \\right) \\\\ \\left(- \\frac{7}{2}, -4\\sqrt{2}, -\\sqrt{2} \\right) \\end{array}$\n",
    "\n",
    "$L''_{xx} = 2\\lambda_1 + 4$\n",
    "\n",
    "$L''_{yy} =32\\lambda_1 + 64$\n",
    "\n",
    "$L''_{\\lambda_1\\lambda_1} = 0$\n",
    "\n",
    "$L''_{xy} = 12$\n",
    "\n",
    "$L''_{x\\lambda_1} = 2x$\n",
    "\n",
    "$L''_{y\\lambda_1} = 32y$\n",
    "\n",
    "$\\begin{pmatrix} L''_{\\lambda_1\\lambda_1} & L''_{\\lambda_1 x} & L''_{\\lambda_1 y} \\\\ L''_{x \\lambda_1} & L''_{xx} & L''_{xy} \\\\ L''_{y \\lambda_1} & L''{yx} & L''{yy} \\end{pmatrix} = \\begin{pmatrix} 0 & 2x & 32y\\\\ 2x & 2\\lambda_1 + 4 & 12\\\\ 32y & 12 & 32\\lambda_1 + 64 \\end{pmatrix}$\n",
    "\n",
    "$\\begin{vmatrix} 0 & 2x & 32y\\\\ 2x & 2\\lambda_1 + 4 & 12\\\\ 32y & 12 & 32\\lambda_1 + 64 \\end{vmatrix} =$\n",
    "\n",
    "$-128 x^2 \\lambda_1-256x^2 + 1536xy - 2048y^2\\lambda_1 -4096y^2 = -256(x^2 + 16y^2) - 128\\lambda_1(x^2 + 16y^2) + 1536xy = -256 \\cdot 64 - 128\\lambda_1 \\cdot 64 + 1536xy = -16384 - 8192\\lambda_1 + 1536xy$\n",
    "\n",
    "$\\left(- \\frac{7}{2}, 4\\sqrt{2}, \\sqrt{2} \\right),\\Delta_1 = 24576, \\Delta_1 > 0 \\implies \\text{точка максимума}$\n",
    "\n",
    "$\\left(- \\frac{1}{2}, 4\\sqrt{2}, -\\sqrt{2} \\right),\\Delta_1 = -24576, \\Delta_1 < 0 \\implies \\text{точка минимума}$\n",
    "\n",
    "$\\left(- \\frac{1}{2}, -4\\sqrt{2}, \\sqrt{2} \\right),\\Delta_1 = -24576, \\Delta_1 < 0 \\implies \\text{точка минимума}$\n",
    "\n",
    "$\\left(- \\frac{7}{2}, -4\\sqrt{2}, -\\sqrt{2} \\right),\\Delta_1 = 24576, \\Delta_1 > 0 \\implies \\text{точка максимума}$"
   ]
  },
  {
   "cell_type": "code",
   "execution_count": null,
   "id": "71573eaa",
   "metadata": {},
   "outputs": [],
   "source": []
  }
 ],
 "metadata": {
  "kernelspec": {
   "display_name": "Python 3",
   "language": "python",
   "name": "python3"
  },
  "language_info": {
   "codemirror_mode": {
    "name": "ipython",
    "version": 3
   },
   "file_extension": ".py",
   "mimetype": "text/x-python",
   "name": "python",
   "nbconvert_exporter": "python",
   "pygments_lexer": "ipython3",
   "version": "3.8.8"
  }
 },
 "nbformat": 4,
 "nbformat_minor": 5
}
